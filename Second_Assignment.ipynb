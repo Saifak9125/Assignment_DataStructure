{
 "cells": [
  {
   "cell_type": "markdown",
   "id": "f3ffe5fd-6767-4a81-8e77-74d9f55c69a8",
   "metadata": {},
   "source": [
    "# Assignment : Data Structure"
   ]
  },
  {
   "cell_type": "markdown",
   "id": "d86053cc-819a-4c42-9f7b-e45325eb798b",
   "metadata": {},
   "source": [
    "## 1. Discuss string slicing and provide examples."
   ]
  },
  {
   "cell_type": "markdown",
   "id": "47a5cdd7-4aa6-4ed6-98c8-b54365ccc041",
   "metadata": {},
   "source": [
    "## Slicing in String: "
   ]
  },
  {
   "cell_type": "markdown",
   "id": "c3852c88-c84e-4c0a-b655-01f0066474d8",
   "metadata": {},
   "source": [
    "### -> Slicing in String refers to extracting a portion of the string using indexing. Python allows you to create substring from string using slicing method."
   ]
  },
  {
   "cell_type": "code",
   "execution_count": 2,
   "id": "9b4e7ed3-6235-4ce2-a75c-2d733efb06e0",
   "metadata": {},
   "outputs": [],
   "source": [
    "#Syntax \n",
    "\n",
    "#Substring = string[start:end:step]"
   ]
  },
  {
   "cell_type": "code",
   "execution_count": 4,
   "id": "73f8fdc2-1fd0-4d01-b80e-2d8b0a466e49",
   "metadata": {},
   "outputs": [
    {
     "name": "stdout",
     "output_type": "stream",
     "text": [
      "My name\n"
     ]
    }
   ],
   "source": [
    "#Example of slicing in string\n",
    "\n",
    "str1 = (\"My name is saif\")\n",
    "print(str1[0:7])"
   ]
  },
  {
   "cell_type": "code",
   "execution_count": 5,
   "id": "23938b23-0717-49fb-a75a-4659bc6ceb12",
   "metadata": {},
   "outputs": [
    {
     "name": "stdout",
     "output_type": "stream",
     "text": [
      "My name is\n"
     ]
    }
   ],
   "source": [
    "#Slicing using negative indexing\n",
    "print(str1[:-5]) #print string from starting except last five indexe"
   ]
  },
  {
   "cell_type": "code",
   "execution_count": 10,
   "id": "8a0b9eb1-9c6d-4924-8e71-e00553beda11",
   "metadata": {},
   "outputs": [
    {
     "name": "stdout",
     "output_type": "stream",
     "text": [
      "M aei af\n"
     ]
    }
   ],
   "source": [
    "#Slicing using step \n",
    "\n",
    "print(str1[::2]) #print every second character."
   ]
  },
  {
   "cell_type": "markdown",
   "id": "a9ed43a3-62ed-4619-a771-6cc108df8ead",
   "metadata": {},
   "source": [
    "# 2. Explain the key features of lists in Python."
   ]
  },
  {
   "cell_type": "markdown",
   "id": "15021005-a9ff-4f4c-9cfa-7cdaf69763c5",
   "metadata": {},
   "source": [
    "## Key Features of list:"
   ]
  },
  {
   "cell_type": "markdown",
   "id": "34fe7c72-ef61-443a-a652-9d21377268a2",
   "metadata": {},
   "source": [
    "### 1. Ordered:"
   ]
  },
  {
   "cell_type": "markdown",
   "id": "e9707256-8f62-41cf-a50c-1484ae6508d1",
   "metadata": {},
   "source": [
    "#### List maitains the order of element as they are entered. Every element has specific position."
   ]
  },
  {
   "cell_type": "markdown",
   "id": "acf5ef78-a438-492d-81a3-864e5abb82cf",
   "metadata": {},
   "source": [
    "### 2. Heterogenous Data:"
   ]
  },
  {
   "cell_type": "markdown",
   "id": "fbd12188-7db0-4a2e-8600-cb2b8f8f18bf",
   "metadata": {},
   "source": [
    "#### List can store heterogenous data means list can store string, character, Integer and boolean value etc."
   ]
  },
  {
   "cell_type": "markdown",
   "id": "8d206d5b-83e0-4997-be4e-e6f71a33ebdc",
   "metadata": {},
   "source": [
    "### 3. Mutable:"
   ]
  },
  {
   "cell_type": "markdown",
   "id": "b5e6df33-56c7-4eb7-8434-e1745a03dd65",
   "metadata": {},
   "source": [
    "#### List is mutable , meaning elemnet of list can be change after creation. you can add, remove and modify element."
   ]
  },
  {
   "cell_type": "markdown",
   "id": "b947369a-906e-46c8-833a-ad996baa3f39",
   "metadata": {},
   "source": [
    "### 4. Indexing or Slicing:"
   ]
  },
  {
   "cell_type": "markdown",
   "id": "be7e06aa-6670-4606-ab29-b4ac2b212d4c",
   "metadata": {},
   "source": [
    "#### List allow you to acces the element of the list by using indexing or slicing method"
   ]
  },
  {
   "cell_type": "markdown",
   "id": "6a2f5d24-9ee1-4f94-a8fc-2d13cfd86b18",
   "metadata": {},
   "source": [
    "# 3. Describe how to access,modify and delete elements in a list with examples."
   ]
  },
  {
   "cell_type": "markdown",
   "id": "d79a1799-cda4-44bb-b576-35f23546c1e5",
   "metadata": {},
   "source": [
    "## 1. Accessing Element:"
   ]
  },
  {
   "cell_type": "code",
   "execution_count": 17,
   "id": "f92762c0-a7b8-4ff8-b737-73034ca64287",
   "metadata": {},
   "outputs": [
    {
     "data": {
      "text/plain": [
       "'truck'"
      ]
     },
     "execution_count": 17,
     "metadata": {},
     "output_type": "execute_result"
    }
   ],
   "source": [
    "## Elelment of list can be accessed by index.\n",
    "\n",
    "my_list = [\"car\",\"bus\",\"truck\",\"cycle\",\"bike\"]\n",
    "my_list[2] #third element will be print"
   ]
  },
  {
   "cell_type": "code",
   "execution_count": 18,
   "id": "a5ace329-0c78-4196-a17c-6471079f1f92",
   "metadata": {},
   "outputs": [
    {
     "data": {
      "text/plain": [
       "['car', 'truck', 'bike']"
      ]
     },
     "execution_count": 18,
     "metadata": {},
     "output_type": "execute_result"
    }
   ],
   "source": [
    "my_list[::2] #every second element will print from 0 index"
   ]
  },
  {
   "cell_type": "code",
   "execution_count": 19,
   "id": "246c2512-6349-4af3-a8de-649624528a49",
   "metadata": {},
   "outputs": [
    {
     "data": {
      "text/plain": [
       "['car', 'bus', 'truck']"
      ]
     },
     "execution_count": 19,
     "metadata": {},
     "output_type": "execute_result"
    }
   ],
   "source": [
    "my_list[:3] #only three element will be print"
   ]
  },
  {
   "cell_type": "markdown",
   "id": "929873ce-b90b-47a4-afc4-fd2b25d0f296",
   "metadata": {},
   "source": [
    "## 2.Modifying Element:"
   ]
  },
  {
   "cell_type": "code",
   "execution_count": 1,
   "id": "bd58e899-fca0-4360-87c4-9ca06f3ece9c",
   "metadata": {},
   "outputs": [],
   "source": [
    "# Directly change value of list by index.\n",
    "\n",
    "my_list = [\"car\",\"bus\",\"truck\",\"cycle\",\"bike\"]\n",
    "my_list[2] = \"train\""
   ]
  },
  {
   "cell_type": "code",
   "execution_count": 2,
   "id": "617896f4-a558-454c-b409-bc151ccd0ba5",
   "metadata": {},
   "outputs": [
    {
     "data": {
      "text/plain": [
       "['car', 'bus', 'train', 'cycle', 'bike']"
      ]
     },
     "execution_count": 2,
     "metadata": {},
     "output_type": "execute_result"
    }
   ],
   "source": [
    "my_list"
   ]
  },
  {
   "cell_type": "markdown",
   "id": "b08f542f-dd82-40ed-8843-e97398724e53",
   "metadata": {},
   "source": [
    "## Deleting Element:"
   ]
  },
  {
   "cell_type": "code",
   "execution_count": 4,
   "id": "d1d28a0a-2f05-4e86-a813-ad5678934d30",
   "metadata": {},
   "outputs": [],
   "source": [
    "# delete element by using remove function.\n",
    "\n",
    "my_list = [\"car\",\"bus\",\"truck\",\"cycle\",\"bike\",\"truck\"]\n",
    "my_list.remove(\"truck\") # Remove first occurrence of value."
   ]
  },
  {
   "cell_type": "code",
   "execution_count": 5,
   "id": "6b7206cd-0433-4561-863f-1886b02e8c97",
   "metadata": {},
   "outputs": [
    {
     "data": {
      "text/plain": [
       "['car', 'bus', 'cycle', 'bike', 'truck']"
      ]
     },
     "execution_count": 5,
     "metadata": {},
     "output_type": "execute_result"
    }
   ],
   "source": [
    "my_list"
   ]
  },
  {
   "cell_type": "code",
   "execution_count": 6,
   "id": "fc625792-879d-4d08-8db4-2887f945ad49",
   "metadata": {},
   "outputs": [
    {
     "data": {
      "text/plain": [
       "'cycle'"
      ]
     },
     "execution_count": 6,
     "metadata": {},
     "output_type": "execute_result"
    }
   ],
   "source": [
    "# delete element by using pop fucntion.\n",
    "\n",
    "my_list = [\"car\",\"bus\",\"truck\",\"cycle\",\"bike\",\"truck\"]\n",
    "my_list.pop(3)"
   ]
  },
  {
   "cell_type": "code",
   "execution_count": 7,
   "id": "85192670-1bf0-4419-b189-1640affd34d7",
   "metadata": {},
   "outputs": [],
   "source": [
    "# delete element by using clear function.\n",
    "\n",
    "my_list = [\"car\",\"bus\",\"truck\",\"cycle\",\"bike\",\"truck\"]\n",
    "my_list.clear() #Remove all items from list."
   ]
  },
  {
   "cell_type": "code",
   "execution_count": 8,
   "id": "2593140a-034e-43f1-8640-58baf32efb57",
   "metadata": {},
   "outputs": [
    {
     "data": {
      "text/plain": [
       "[]"
      ]
     },
     "execution_count": 8,
     "metadata": {},
     "output_type": "execute_result"
    }
   ],
   "source": [
    "my_list"
   ]
  },
  {
   "cell_type": "markdown",
   "id": "89153128-334b-4ab0-b3c7-673097db5d18",
   "metadata": {},
   "source": [
    "# 4. Compare and contrast tuples and lists with examples."
   ]
  },
  {
   "cell_type": "markdown",
   "id": "34e1044a-665d-46e9-a8b5-d63cc1373344",
   "metadata": {},
   "source": [
    "### Tuple and List both are data structure in python that can hold heterogenous data but they are diffrent in some properties."
   ]
  },
  {
   "cell_type": "markdown",
   "id": "d39dc21d-d83c-4eaa-8d78-74ed58269d8d",
   "metadata": {},
   "source": [
    "## Syntax\n",
    "### Lists are defined using square brackets [ ]."
   ]
  },
  {
   "cell_type": "code",
   "execution_count": 19,
   "id": "381c2e86-8895-47dd-91bd-d6239cdc8cf9",
   "metadata": {},
   "outputs": [],
   "source": [
    "my_list1 = [2,3,4,5]"
   ]
  },
  {
   "cell_type": "markdown",
   "id": "33f4bb6c-250b-4f44-a361-3c6424c2b4fc",
   "metadata": {},
   "source": [
    "### Tuples are defined using parantheses ( )."
   ]
  },
  {
   "cell_type": "code",
   "execution_count": 20,
   "id": "021e124d-8740-4df9-9b5c-87b379f5d864",
   "metadata": {},
   "outputs": [],
   "source": [
    "my_tuple = (1,2,3,4)"
   ]
  },
  {
   "cell_type": "markdown",
   "id": "d67f3806-b7ce-4b61-9b2c-dac02fe74607",
   "metadata": {},
   "source": [
    "### Mutability:"
   ]
  },
  {
   "cell_type": "markdown",
   "id": "8b03f1ac-eb49-4d85-ae8f-749a6b51d808",
   "metadata": {},
   "source": [
    "#### Lists are mutable means , element of list can be changed after creation. addtion , deletion and modification of list is possible."
   ]
  },
  {
   "cell_type": "code",
   "execution_count": 13,
   "id": "e69eff19-fa56-41ab-aff5-730269689aa7",
   "metadata": {},
   "outputs": [],
   "source": [
    "# adding an element in list\n",
    "\n",
    "my_list = [1,2,3,4,5]\n",
    "my_list.append(6) #Append object to the end of the list."
   ]
  },
  {
   "cell_type": "code",
   "execution_count": 14,
   "id": "27339a4f-6118-49cf-a3ea-a05f2444430b",
   "metadata": {},
   "outputs": [
    {
     "data": {
      "text/plain": [
       "[1, 2, 3, 4, 5, 6]"
      ]
     },
     "execution_count": 14,
     "metadata": {},
     "output_type": "execute_result"
    }
   ],
   "source": [
    "my_list"
   ]
  },
  {
   "cell_type": "code",
   "execution_count": 15,
   "id": "7cd321c9-3310-4d25-87a5-72d97a59dbfe",
   "metadata": {},
   "outputs": [],
   "source": [
    "# deleting an element in list.\n",
    "\n",
    "my_list.remove(4) #Remove first occurrence of value."
   ]
  },
  {
   "cell_type": "code",
   "execution_count": 16,
   "id": "39dcb5d4-7213-47ef-bc53-3d691204e6fd",
   "metadata": {},
   "outputs": [
    {
     "data": {
      "text/plain": [
       "[1, 2, 3, 5, 6]"
      ]
     },
     "execution_count": 16,
     "metadata": {},
     "output_type": "execute_result"
    }
   ],
   "source": [
    "my_list"
   ]
  },
  {
   "cell_type": "code",
   "execution_count": 17,
   "id": "58fa83cc-d94c-4d8b-9b7f-adedb0f72d2f",
   "metadata": {},
   "outputs": [],
   "source": [
    "# modifiction of element in list.\n",
    "\n",
    "my_list[3] = 4"
   ]
  },
  {
   "cell_type": "code",
   "execution_count": 18,
   "id": "513cc949-0642-4e0f-a512-64f891bde7c3",
   "metadata": {},
   "outputs": [
    {
     "data": {
      "text/plain": [
       "[1, 2, 3, 4, 6]"
      ]
     },
     "execution_count": 18,
     "metadata": {},
     "output_type": "execute_result"
    }
   ],
   "source": [
    "my_list"
   ]
  },
  {
   "cell_type": "markdown",
   "id": "48af23f2-2038-4965-b3c9-3930aa047a4f",
   "metadata": {},
   "source": [
    "### Tupble are immutable means, element in tuple can not be adde, delete or modify after creation."
   ]
  },
  {
   "cell_type": "code",
   "execution_count": 22,
   "id": "7193549c-2400-4afd-adaf-52afaa3d380b",
   "metadata": {},
   "outputs": [
    {
     "ename": "AttributeError",
     "evalue": "'tuple' object has no attribute 'add'",
     "output_type": "error",
     "traceback": [
      "\u001b[0;31m---------------------------------------------------------------------------\u001b[0m",
      "\u001b[0;31mAttributeError\u001b[0m                            Traceback (most recent call last)",
      "Cell \u001b[0;32mIn[22], line 4\u001b[0m\n\u001b[1;32m      1\u001b[0m \u001b[38;5;66;03m# if we try to add an element in tuple it will throw an error\u001b[39;00m\n\u001b[1;32m      3\u001b[0m my_tuple1 \u001b[38;5;241m=\u001b[39m (\u001b[38;5;241m1\u001b[39m,\u001b[38;5;241m2\u001b[39m,\u001b[38;5;241m3\u001b[39m,\u001b[38;5;241m4\u001b[39m,\u001b[38;5;241m5\u001b[39m)\n\u001b[0;32m----> 4\u001b[0m \u001b[43mmy_tuple1\u001b[49m\u001b[38;5;241;43m.\u001b[39;49m\u001b[43madd\u001b[49m(\u001b[38;5;241m6\u001b[39m)\n",
      "\u001b[0;31mAttributeError\u001b[0m: 'tuple' object has no attribute 'add'"
     ]
    }
   ],
   "source": [
    "# if we try to add an element in tuple it will throw an error\n",
    "\n",
    "my_tuple1 = (1,2,3,4,5)\n",
    "my_tuple1.add(6)"
   ]
  },
  {
   "cell_type": "code",
   "execution_count": 23,
   "id": "54b8a4f1-e2dc-4a34-87a7-6f2d4dd3fa11",
   "metadata": {},
   "outputs": [
    {
     "ename": "TypeError",
     "evalue": "'tuple' object does not support item assignment",
     "output_type": "error",
     "traceback": [
      "\u001b[0;31m---------------------------------------------------------------------------\u001b[0m",
      "\u001b[0;31mTypeError\u001b[0m                                 Traceback (most recent call last)",
      "Cell \u001b[0;32mIn[23], line 4\u001b[0m\n\u001b[1;32m      1\u001b[0m \u001b[38;5;66;03m#if we try to modify tuple it will throw an error\u001b[39;00m\n\u001b[1;32m      3\u001b[0m my_tuple1 \u001b[38;5;241m=\u001b[39m (\u001b[38;5;241m1\u001b[39m,\u001b[38;5;241m2\u001b[39m,\u001b[38;5;241m3\u001b[39m,\u001b[38;5;241m4\u001b[39m,\u001b[38;5;241m5\u001b[39m)\n\u001b[0;32m----> 4\u001b[0m \u001b[43mmy_tuple1\u001b[49m\u001b[43m[\u001b[49m\u001b[38;5;241;43m4\u001b[39;49m\u001b[43m]\u001b[49m \u001b[38;5;241m=\u001b[39m \u001b[38;5;241m6\u001b[39m\n",
      "\u001b[0;31mTypeError\u001b[0m: 'tuple' object does not support item assignment"
     ]
    }
   ],
   "source": [
    "#if we try to modify tuple it will throw an error\n",
    "\n",
    "my_tuple1 = (1,2,3,4,5)\n",
    "my_tuple1[4] = 6"
   ]
  },
  {
   "cell_type": "markdown",
   "id": "3fe18179-b39f-4013-b353-99279dba4090",
   "metadata": {},
   "source": [
    "# 5. Describe the key features of sets and provide examples of their use."
   ]
  },
  {
   "cell_type": "markdown",
   "id": "ac50ab6d-e1c4-4fea-a13d-6d90deee8c73",
   "metadata": {},
   "source": [
    "## Sets:"
   ]
  },
  {
   "cell_type": "markdown",
   "id": "0e1ea7e7-b42c-467a-be0c-66c4cb2e86da",
   "metadata": {},
   "source": [
    "### Set is an unordered collection of unique elements. Here are some key features of set:"
   ]
  },
  {
   "cell_type": "markdown",
   "id": "0883a011-6990-43cf-8d56-60acbefaee01",
   "metadata": {},
   "source": [
    "### Unorder Collection:\n",
    "#### Set do not maintain any order of element. so they are not indexed or ordered."
   ]
  },
  {
   "cell_type": "code",
   "execution_count": 31,
   "id": "68e81832-57b5-4063-acd0-8a71c1dc0901",
   "metadata": {},
   "outputs": [],
   "source": [
    "set1 = {'b','e','q','r'}"
   ]
  },
  {
   "cell_type": "code",
   "execution_count": 32,
   "id": "685e581f-3b5b-4cfe-a683-cd160dfdb822",
   "metadata": {},
   "outputs": [
    {
     "data": {
      "text/plain": [
       "{'b', 'e', 'q', 'r'}"
      ]
     },
     "execution_count": 32,
     "metadata": {},
     "output_type": "execute_result"
    }
   ],
   "source": [
    "set1"
   ]
  },
  {
   "cell_type": "markdown",
   "id": "429dc343-60d0-4784-9f2f-26c09607f222",
   "metadata": {},
   "source": [
    "### Unique Element:\n",
    "#### Set can not contain duplicate element."
   ]
  },
  {
   "cell_type": "code",
   "execution_count": 43,
   "id": "88caf49a-323f-45dd-b8d2-4dd4fb7f585f",
   "metadata": {},
   "outputs": [
    {
     "data": {
      "text/plain": [
       "{1, 2, 3, 4}"
      ]
     },
     "execution_count": 43,
     "metadata": {},
     "output_type": "execute_result"
    }
   ],
   "source": [
    "set2 = {1,1,2,2,3,3,4,4}\n",
    "set2"
   ]
  },
  {
   "cell_type": "markdown",
   "id": "18771be1-d4ea-42d1-aac2-ca5495090004",
   "metadata": {},
   "source": [
    "### Mutable:\n",
    "#### Set are  mutable means, you can add or delete element after their creation."
   ]
  },
  {
   "cell_type": "code",
   "execution_count": 44,
   "id": "489b6b1f-0084-4406-92f7-cb804b83556e",
   "metadata": {},
   "outputs": [],
   "source": [
    "set2.add(5)"
   ]
  },
  {
   "cell_type": "code",
   "execution_count": 45,
   "id": "f5f172c5-9cca-4fa8-bc02-37bcdc31abbb",
   "metadata": {},
   "outputs": [
    {
     "data": {
      "text/plain": [
       "{1, 2, 3, 4, 5}"
      ]
     },
     "execution_count": 45,
     "metadata": {},
     "output_type": "execute_result"
    }
   ],
   "source": [
    "set2"
   ]
  },
  {
   "cell_type": "code",
   "execution_count": 46,
   "id": "ab64fe37-65f8-4132-87a5-91524a00568b",
   "metadata": {},
   "outputs": [],
   "source": [
    "set2.remove(4)"
   ]
  },
  {
   "cell_type": "code",
   "execution_count": 47,
   "id": "eb9e902b-459f-4a7b-9b7b-438b34e02dd8",
   "metadata": {},
   "outputs": [
    {
     "data": {
      "text/plain": [
       "{1, 2, 3, 5}"
      ]
     },
     "execution_count": 47,
     "metadata": {},
     "output_type": "execute_result"
    }
   ],
   "source": [
    "set2"
   ]
  },
  {
   "cell_type": "markdown",
   "id": "58dfc2b2-7a00-4ca5-a251-d74d00126b47",
   "metadata": {},
   "source": [
    "# 6. Discuss the use cases of tuples and sets in Python programming."
   ]
  },
  {
   "cell_type": "markdown",
   "id": "a102fbe1-2a60-4b9b-a67a-ef7550c6b56f",
   "metadata": {},
   "source": [
    "## 1. Use Case Of tuples:"
   ]
  },
  {
   "cell_type": "code",
   "execution_count": 1,
   "id": "65d04a4c-6ffb-4e5e-a455-9c10f869b005",
   "metadata": {},
   "outputs": [
    {
     "data": {
      "text/plain": [
       "(('Shubham Yadav', 'Software Developer', 32554),\n",
       " ('Ankit Kumar', 'Web Develoer', 32556),\n",
       " ('Saif Ali', 'Data Analyst', 32557),\n",
       " ('Karan Soni', 'System Engineer', 32558),\n",
       " ('Anurag Pandey', 'Software trainee', 32559))"
      ]
     },
     "execution_count": 1,
     "metadata": {},
     "output_type": "execute_result"
    }
   ],
   "source": [
    "#tuples are immutable so we can use tuples to maintain record of employee in office\n",
    "\n",
    "#using nested tuple\n",
    "\n",
    "employee_record= ((\"Shubham Yadav\",\"Software Developer\",32554),\n",
    "                   (\"Ankit Kumar\",\"Web Develoer\",32556),\n",
    "                   (\"Saif Ali\",\"Data Analyst\",32557),\n",
    "                   (\"Karan Soni\",\"System Engineer\",32558),\n",
    "                   (\"Anurag Pandey\",\"Software trainee\",32559))\n",
    "employee_record"
   ]
  },
  {
   "cell_type": "code",
   "execution_count": 2,
   "id": "150c4c4d-3e46-4852-8e65-39f3759f39b1",
   "metadata": {},
   "outputs": [
    {
     "data": {
      "text/plain": [
       "('Shubham Yadav', 'Software Developer', 32554)"
      ]
     },
     "execution_count": 2,
     "metadata": {},
     "output_type": "execute_result"
    }
   ],
   "source": [
    "employee_record[0]"
   ]
  },
  {
   "cell_type": "code",
   "execution_count": 3,
   "id": "71f90493-2379-4622-87bc-7735fcf83139",
   "metadata": {},
   "outputs": [
    {
     "data": {
      "text/plain": [
       "('Karan Soni', 'System Engineer', 32558)"
      ]
     },
     "execution_count": 3,
     "metadata": {},
     "output_type": "execute_result"
    }
   ],
   "source": [
    "employee_record[3]"
   ]
  },
  {
   "cell_type": "code",
   "execution_count": 17,
   "id": "f39bfc19-8d52-4ec4-a206-332284983d6c",
   "metadata": {},
   "outputs": [],
   "source": [
    "# location map \n",
    "\n",
    "location = ((\"Maharashtra\",\"Mumbai\",100212),\n",
    "           (\"Uttar Pradesh\",\"Lucknow\",100345),\n",
    "           (\"Bihar\",\"Patna\",100456),\n",
    "           (\"Gujrat\",\"Gandhinagar\",100765))"
   ]
  },
  {
   "cell_type": "code",
   "execution_count": 18,
   "id": "e0a57cf5-23ee-4d92-b580-151e26fbed4d",
   "metadata": {},
   "outputs": [
    {
     "data": {
      "text/plain": [
       "(('Maharashtra', 'Mumbai', 100212),\n",
       " ('Uttar Pradesh', 'Lucknow', 100345),\n",
       " ('Bihar', 'Patna', 100456),\n",
       " ('Gujrat', 'Gandhinagar', 100765))"
      ]
     },
     "execution_count": 18,
     "metadata": {},
     "output_type": "execute_result"
    }
   ],
   "source": [
    "location"
   ]
  },
  {
   "cell_type": "code",
   "execution_count": 19,
   "id": "899d2e47-cd66-44ca-bbd6-94137bdcafb9",
   "metadata": {},
   "outputs": [
    {
     "data": {
      "text/plain": [
       "('Bihar', 'Patna', 100456)"
      ]
     },
     "execution_count": 19,
     "metadata": {},
     "output_type": "execute_result"
    }
   ],
   "source": [
    "location[2]"
   ]
  },
  {
   "cell_type": "code",
   "execution_count": 20,
   "id": "dda928db-649b-4230-9cdb-b90d662cc216",
   "metadata": {},
   "outputs": [
    {
     "data": {
      "text/plain": [
       "('Uttar Pradesh', 'Lucknow', 100345)"
      ]
     },
     "execution_count": 20,
     "metadata": {},
     "output_type": "execute_result"
    }
   ],
   "source": [
    "location[1]"
   ]
  },
  {
   "cell_type": "markdown",
   "id": "57416131-f071-49a5-bd3f-42a156af8550",
   "metadata": {},
   "source": [
    "## 2. Use Cases of sets"
   ]
  },
  {
   "cell_type": "code",
   "execution_count": 1,
   "id": "bceebeee-f4a0-4bb2-bf8c-1159f406fd6f",
   "metadata": {},
   "outputs": [
    {
     "name": "stdout",
     "output_type": "stream",
     "text": [
      "{'Karan', 'Ankit', 'Saif'}\n"
     ]
    }
   ],
   "source": [
    "# Assignment submission by the student,\n",
    "\n",
    "S1 = {\"Shubham\",\"Ankit\",\"Saif\",\"Karan\"} #Students who done Assignment no 1.\n",
    "S2 = {\"Ankit\",\"Karan\",\"Saif\"} #Stduents who done Assignment no 2.\n",
    "\n",
    "S3 = S1 & S2 # Students who done both assignment.\n",
    "print(S3)"
   ]
  },
  {
   "cell_type": "code",
   "execution_count": 3,
   "id": "5aa87deb-32ea-4bf8-b016-75538d48d8a2",
   "metadata": {},
   "outputs": [
    {
     "name": "stdout",
     "output_type": "stream",
     "text": [
      "{'Saif', 'Shubham', 'Karan', 'Ankit'}\n"
     ]
    }
   ],
   "source": [
    "#Stdunet who have done atlest one assignmnet\n",
    "\n",
    "S4 = S1 | S2\n",
    "print(S4)"
   ]
  },
  {
   "cell_type": "markdown",
   "id": "d0256691-d0b4-43dc-b2fa-dd314559c7b9",
   "metadata": {},
   "source": [
    "# 7. Describe how to add, modify and delete items in a dictionary with examples."
   ]
  },
  {
   "cell_type": "markdown",
   "id": "956fde61-e49b-4bcc-a46e-49aa67bf67df",
   "metadata": {},
   "source": [
    "## Addition in Dictionary"
   ]
  },
  {
   "cell_type": "code",
   "execution_count": 2,
   "id": "4041621a-f206-489b-a3b6-c6c51320b3c5",
   "metadata": {},
   "outputs": [
    {
     "name": "stdout",
     "output_type": "stream",
     "text": [
      "{'Brand': 'Mahindra', 'Model': 'Thar', 'Price': '10 Lakh', 'color': 'Black'}\n"
     ]
    }
   ],
   "source": [
    "# Adding an Elemnent in dictionary using new indexe and assigning a value to it.\n",
    "\n",
    "car1 = {\"Brand\":\"Mahindra\",\"Model\":\"Thar\",\"Price\":\"10 Lakh\"}\n",
    "car1[\"color\"] = \"Black\" #Adding car color in dixtionary of car\n",
    "print(car1)"
   ]
  },
  {
   "cell_type": "code",
   "execution_count": 4,
   "id": "99f87cdb-fad5-4bcf-b20c-14e8ae19dd0f",
   "metadata": {},
   "outputs": [],
   "source": [
    "# Adding item of one diction to other using update method\n",
    "\n",
    "feature = {\"Fuel\":\"Diesel\"}\n",
    "car1.update(feature)"
   ]
  },
  {
   "cell_type": "code",
   "execution_count": 5,
   "id": "9e6b4be8-585e-4361-b604-ad1b3928fdc6",
   "metadata": {},
   "outputs": [
    {
     "data": {
      "text/plain": [
       "{'Brand': 'Mahindra',\n",
       " 'Model': 'Thar',\n",
       " 'Price': '10 Lakh',\n",
       " 'color': 'Black',\n",
       " 'Fuel': 'Diesel'}"
      ]
     },
     "execution_count": 5,
     "metadata": {},
     "output_type": "execute_result"
    }
   ],
   "source": [
    "car1"
   ]
  },
  {
   "cell_type": "markdown",
   "id": "a48cdb83-4750-4198-a9a0-6a6b2c11f5b4",
   "metadata": {},
   "source": [
    "## Deletion in Dictionary"
   ]
  },
  {
   "cell_type": "code",
   "execution_count": 6,
   "id": "bdc4cc17-372c-4c6d-ab83-c722dcb08532",
   "metadata": {},
   "outputs": [
    {
     "data": {
      "text/plain": [
       "'10 Lakh'"
      ]
     },
     "execution_count": 6,
     "metadata": {},
     "output_type": "execute_result"
    }
   ],
   "source": [
    "# Deleting element from dictionary by pop method\n",
    "\n",
    "car1 = {\"Brand\":\"Mahindra\",\"Model\":\"Thar\",\"Price\":\"10 Lakh\"}\n",
    "car1.pop(\"Price\") # remove specified key and return the corresponding value."
   ]
  },
  {
   "cell_type": "code",
   "execution_count": 7,
   "id": "26e48c42-3235-4bd5-ac87-d78598888b5b",
   "metadata": {},
   "outputs": [],
   "source": [
    "# Deleting element from dictionary using del function\n",
    "del car1[\"Model\"]"
   ]
  },
  {
   "cell_type": "code",
   "execution_count": 8,
   "id": "48ce0347-8e9c-4d83-9745-ed536539490c",
   "metadata": {},
   "outputs": [
    {
     "data": {
      "text/plain": [
       "{'Brand': 'Mahindra'}"
      ]
     },
     "execution_count": 8,
     "metadata": {},
     "output_type": "execute_result"
    }
   ],
   "source": [
    "car1"
   ]
  },
  {
   "cell_type": "code",
   "execution_count": 9,
   "id": "cc5a6df7-7c58-4d4b-9f9f-f00dbdf8c6b3",
   "metadata": {},
   "outputs": [],
   "source": [
    "# Deleting all element in dictionary using clear method.\n",
    "\n",
    "car1.clear()"
   ]
  },
  {
   "cell_type": "code",
   "execution_count": 10,
   "id": "a76f9981-316c-48b6-8def-4b9dc6505532",
   "metadata": {},
   "outputs": [
    {
     "data": {
      "text/plain": [
       "{}"
      ]
     },
     "execution_count": 10,
     "metadata": {},
     "output_type": "execute_result"
    }
   ],
   "source": [
    "car1"
   ]
  },
  {
   "cell_type": "markdown",
   "id": "f5e1513f-b64d-4a3c-a125-944eae92be67",
   "metadata": {},
   "source": [
    "## Modification in Dictionary"
   ]
  },
  {
   "cell_type": "code",
   "execution_count": 13,
   "id": "dde2a57d-7585-4288-aae6-e3265d85353b",
   "metadata": {},
   "outputs": [],
   "source": [
    "# change a value in dictionary using key.\n",
    "\n",
    "car1 = {\"Brand\":\"Mahindra\",\"Model\":\"Thar\",\"Price\":\"10 Lakh\"}\n",
    "car1[\"Price\"] = \"12 Lakh\""
   ]
  },
  {
   "cell_type": "code",
   "execution_count": 14,
   "id": "655bf7ca-877a-4775-ba2e-2b6e252fde62",
   "metadata": {},
   "outputs": [
    {
     "data": {
      "text/plain": [
       "{'Brand': 'Mahindra', 'Model': 'Thar', 'Price': '12 Lakh'}"
      ]
     },
     "execution_count": 14,
     "metadata": {},
     "output_type": "execute_result"
    }
   ],
   "source": [
    "car1"
   ]
  },
  {
   "cell_type": "code",
   "execution_count": 15,
   "id": "13af4f8f-d394-4119-b932-9e3478701891",
   "metadata": {},
   "outputs": [],
   "source": [
    "# change value in dictionary using update method\n",
    "\n",
    "car1.update({\"Model\": \"SUV 300\"})"
   ]
  },
  {
   "cell_type": "code",
   "execution_count": 16,
   "id": "61a7c1bc-4e2f-4fec-a964-775244cb9277",
   "metadata": {},
   "outputs": [
    {
     "data": {
      "text/plain": [
       "{'Brand': 'Mahindra', 'Model': 'SUV 300', 'Price': '12 Lakh'}"
      ]
     },
     "execution_count": 16,
     "metadata": {},
     "output_type": "execute_result"
    }
   ],
   "source": [
    "car1"
   ]
  },
  {
   "cell_type": "markdown",
   "id": "3ea9d1d6-57d0-4220-ba6e-97554c6562d2",
   "metadata": {},
   "source": [
    "# 8. Discuss the importance of dictionary keys being immutable and provide examples."
   ]
  },
  {
   "cell_type": "markdown",
   "id": "cfc287a1-897d-46a9-9027-948dacb8b9c8",
   "metadata": {},
   "source": [
    "### -> Dictionary keys are immutable types such as integer, string or tuple contains only immutable elements.\n",
    "### -> Immutability of keys in dictionary maintains the consistencey and integrity of data stores in dictionary.\n",
    "### -> Immutable property of keys fixed the hash value, which allows python to quickly locate the key's associated value.\n",
    "### -> Immutable key enhance the performance of dictionary operation."
   ]
  },
  {
   "cell_type": "code",
   "execution_count": 18,
   "id": "4fd9610b-ffac-42c4-9dab-458ed55fb63f",
   "metadata": {},
   "outputs": [
    {
     "data": {
      "text/plain": [
       "{'Name': 'Sagar', 'Age': 30, 'City': 'Patna'}"
      ]
     },
     "execution_count": 18,
     "metadata": {},
     "output_type": "execute_result"
    }
   ],
   "source": [
    "# Creating a dictionary with immutable keys \n",
    "\n",
    "person = {\"Name\":\"Sagar\",\"Age\":30,\"City\":\"Patna\"} # name, age and city are immutable\n",
    "person"
   ]
  },
  {
   "cell_type": "code",
   "execution_count": 19,
   "id": "decb588e-b16a-4d7a-8b46-bf8120c75cf4",
   "metadata": {},
   "outputs": [
    {
     "ename": "TypeError",
     "evalue": "unhashable type: 'list'",
     "output_type": "error",
     "traceback": [
      "\u001b[0;31m---------------------------------------------------------------------------\u001b[0m",
      "\u001b[0;31mTypeError\u001b[0m                                 Traceback (most recent call last)",
      "Cell \u001b[0;32mIn[19], line 3\u001b[0m\n\u001b[1;32m      1\u001b[0m \u001b[38;5;66;03m# Attempting to use Mutable key\u001b[39;00m\n\u001b[0;32m----> 3\u001b[0m perosn1 \u001b[38;5;241m=\u001b[39m {[\u001b[38;5;241m1\u001b[39m,\u001b[38;5;241m2\u001b[39m,\u001b[38;5;241m3\u001b[39m]:\u001b[38;5;124m\"\u001b[39m\u001b[38;5;124mSagar\u001b[39m\u001b[38;5;124m\"\u001b[39m} \u001b[38;5;66;03m# list is mutable it will throw an error\u001b[39;00m\n",
      "\u001b[0;31mTypeError\u001b[0m: unhashable type: 'list'"
     ]
    }
   ],
   "source": [
    "# Attempting to use Mutable key\n",
    "\n",
    "perosn1 = {[1,2,3]:\"Sagar\"} # list is mutable it will throw an error (unhashable type)"
   ]
  },
  {
   "cell_type": "code",
   "execution_count": null,
   "id": "9f9ef45d-9fef-4630-8a23-2c255537a37e",
   "metadata": {},
   "outputs": [],
   "source": []
  }
 ],
 "metadata": {
  "kernelspec": {
   "display_name": "Python 3 (ipykernel)",
   "language": "python",
   "name": "python3"
  },
  "language_info": {
   "codemirror_mode": {
    "name": "ipython",
    "version": 3
   },
   "file_extension": ".py",
   "mimetype": "text/x-python",
   "name": "python",
   "nbconvert_exporter": "python",
   "pygments_lexer": "ipython3",
   "version": "3.10.8"
  },
  "toc-autonumbering": false
 },
 "nbformat": 4,
 "nbformat_minor": 5
}
